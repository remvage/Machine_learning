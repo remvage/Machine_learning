{
  "nbformat": 4,
  "nbformat_minor": 0,
  "metadata": {
    "coursera": {
      "course_slug": "introduction-tensorflow",
      "graded_item_id": "ml06H",
      "launcher_item_id": "hQF8A"
    },
    "kernelspec": {
      "display_name": "Python 3",
      "language": "python",
      "name": "python3"
    },
    "language_info": {
      "codemirror_mode": {
        "name": "ipython",
        "version": 3
      },
      "file_extension": ".py",
      "mimetype": "text/x-python",
      "name": "python",
      "nbconvert_exporter": "python",
      "pygments_lexer": "ipython3",
      "version": "3.6.8"
    },
    "colab": {
      "name": "Excercise-3-Question.ipynb",
      "provenance": [],
      "include_colab_link": true
    }
  },
  "cells": [
    {
      "cell_type": "markdown",
      "metadata": {
        "id": "view-in-github",
        "colab_type": "text"
      },
      "source": [
        "<a href=\"https://colab.research.google.com/github/remvage/Machine_learning/blob/main/Excercise-3-HandWritting_Conv.ipynb\" target=\"_parent\"><img src=\"https://colab.research.google.com/assets/colab-badge.svg\" alt=\"Open In Colab\"/></a>"
      ]
    },
    {
      "cell_type": "markdown",
      "metadata": {
        "id": "iQjHqsmTAVLU"
      },
      "source": [
        "## Упражнение 3\n",
        "вы уже знаете, как улучшить Fashion MNIST, используя Convolutions. Теперь посмотрите, можете ли вы улучшить MNIST с точностью до 99,8% или более, используя только один сверточный слой и один MaxPooling 2D. Вам надо будет остановить процесс обучения, как только точность превысит это значение. Это должно произойти менее чем за 20 эпох, поэтому можно точно указать количество эпох для обучения, но ваше обучение должно закончиться, как только accuracy достигнет 99,8%. Если это не произойдет, то вам нужно будет изменить дизайн ваших слоев.\n",
        "\n",
        "Начало кода уже написано - вы должны закончить код\n",
        "\n",
        "Когда достигнута точность 99,8%, надо распечатать строку «достигнута точность 99,8%, поэтому обучение прервано!»"
      ]
    },
    {
      "cell_type": "code",
      "metadata": {
        "id": "NHKVudseU5Vk"
      },
      "source": [
        "import tensorflow as tf\n",
        "import tensorflow as tf\n",
        "import matplotlib.pyplot as plt\n",
        "from os import path, getcwd, chdir\n",
        "from tensorflow.keras.utils import to_categorical\n",
        "from tensorflow.keras.layers import Conv2D, Dense, Flatten, MaxPool2D"
      ],
      "execution_count": 1,
      "outputs": []
    },
    {
      "cell_type": "code",
      "metadata": {
        "id": "tCtEvQtcU5Vr"
      },
      "source": [
        "\n",
        "\n",
        "%matplotlib inline\n",
        "\n",
        "mnist = tf.keras.datasets.mnist\n",
        "\n",
        "(x_train, y_train),(x_test, y_test) = mnist.load_data()\n",
        "\n",
        "max = x_train[0].max()\n",
        "\n",
        "x_train = x_train/max\n",
        "x_test = x_test/max\n",
        "\n",
        "x_train = x_train.reshape(60000, 28, 28, 1)\n",
        "x_test = x_test.reshape(10000, 28, 28, 1)\n",
        "\n",
        "model = tf.keras.models.Sequential([\n",
        "  Conv2D(filters=32, kernel_size=(4,4), input_shape=(28, 28, 1), activation='relu'),\n",
        "  MaxPool2D(pool_size=(2,2)),\n",
        "  Flatten(),\n",
        "  Dense(128, activation='relu'),\n",
        "  Dense(10, activation='softmax')\n",
        "])\n",
        "\n",
        "class MyThresholdCallback(tf.keras.callbacks.Callback):\n",
        "    def init(self, threshold):\n",
        "        super(MyThresholdCallback, self).init()\n",
        "        self.threshold = threshold\n",
        "\n",
        "    def on_epoch_end(self, epoch, logs=None): \n",
        "        accuracy = logs[\"accuracy\"]\n",
        "        if accuracy >= self.threshold:\n",
        "            self.model.stop_training = True\n",
        "\n",
        "callback = MyThresholdCallback(threshold=0.998)\n",
        "\n",
        "model.compile(optimizer='adam',\n",
        "              loss='sparse_categorical_crossentropy',\n",
        "              metrics=['accuracy'])\n",
        "\n",
        "history = model.fit(x_train, y_train, epochs=19, validation_data=(x_test, y_test), batch_size=32, callbacks=[callback])\n",
        "print('Эпох ' + str(history.epoch[-1]) + '. Достигнута точность 99,8%, поэтому обучение прервано! Точность ' + str(history.history['accuracy'][-1]))"
      ],
      "execution_count": null,
      "outputs": []
    }
  ]
}